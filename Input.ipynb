{
 "cells": [
  {
   "cell_type": "markdown",
   "id": "dd7dc749",
   "metadata": {},
   "source": [
    "Instructions:\n",
    "Run each cell below in order, entering the Search Terms as needed in the second cell of code. You can search by location (Zip Code, City, or State) or Provider Information (NPI Number, first, and/or last name) if known.\n",
    "\n",
    "Skip any search criteria you do not need by hitting enter.\n",
    "\n",
    "Be sure to format exactly as indicated to avoid errors."
   ]
  },
  {
   "cell_type": "code",
   "execution_count": 1,
   "id": "7deac62c",
   "metadata": {},
   "outputs": [],
   "source": [
    "import pandas as pd"
   ]
  },
  {
   "cell_type": "code",
   "execution_count": 3,
   "id": "b4cfc8a1",
   "metadata": {},
   "outputs": [
    {
     "name": "stdout",
     "output_type": "stream",
     "text": [
      "Enter Zip Code:95678\n",
      "Enter 2-Digit State (e.g. CA) *NOTE: if you enter a State, you MUST also enter a City: \n",
      "Enter City: \n",
      "Enter 10-Digit NPI Number:\n",
      "Enter Provider First Name: \n",
      "Enter Provider Last Name: \n"
     ]
    }
   ],
   "source": [
    "# Enter Search Terms\n",
    "zip = input(\"Enter Zip Code:\")\n",
    "state = input(\"Enter 2-Digit State (e.g. CA) *NOTE: if you enter a State, you MUST also enter a City: \")\n",
    "city = input(\"Enter City: \")\n",
    "npiNumber = input(\"Enter 10-Digit NPI Number:\")\n",
    "firstName = input(\"Enter Provider First Name: \")\n",
    "lastName = input(\"Enter Provider Last Name: \")"
   ]
  },
  {
   "cell_type": "code",
   "execution_count": 4,
   "id": "8025d931",
   "metadata": {},
   "outputs": [],
   "source": [
    "data = {'postal_code': [zip], 'city': [city], 'state': [state], \n",
    "        'number': [npiNumber], 'first_name': [firstName], 'last_name': [lastName]}"
   ]
  },
  {
   "cell_type": "code",
   "execution_count": 5,
   "id": "38d438ae",
   "metadata": {},
   "outputs": [
    {
     "data": {
      "text/html": [
       "<div>\n",
       "<style scoped>\n",
       "    .dataframe tbody tr th:only-of-type {\n",
       "        vertical-align: middle;\n",
       "    }\n",
       "\n",
       "    .dataframe tbody tr th {\n",
       "        vertical-align: top;\n",
       "    }\n",
       "\n",
       "    .dataframe thead th {\n",
       "        text-align: right;\n",
       "    }\n",
       "</style>\n",
       "<table border=\"1\" class=\"dataframe\">\n",
       "  <thead>\n",
       "    <tr style=\"text-align: right;\">\n",
       "      <th></th>\n",
       "      <th>postal_code</th>\n",
       "      <th>city</th>\n",
       "      <th>state</th>\n",
       "      <th>number</th>\n",
       "      <th>first_name</th>\n",
       "      <th>last_name</th>\n",
       "    </tr>\n",
       "  </thead>\n",
       "  <tbody>\n",
       "    <tr>\n",
       "      <th>0</th>\n",
       "      <td>95678</td>\n",
       "      <td></td>\n",
       "      <td></td>\n",
       "      <td></td>\n",
       "      <td></td>\n",
       "      <td></td>\n",
       "    </tr>\n",
       "  </tbody>\n",
       "</table>\n",
       "</div>"
      ],
      "text/plain": [
       "  postal_code city state number first_name last_name\n",
       "0       95678                                       "
      ]
     },
     "execution_count": 5,
     "metadata": {},
     "output_type": "execute_result"
    }
   ],
   "source": [
    "inputData_df = pd.DataFrame(data)\n",
    "inputData_df"
   ]
  },
  {
   "cell_type": "code",
   "execution_count": 6,
   "id": "cd320e91",
   "metadata": {},
   "outputs": [],
   "source": [
    "inputData_df.to_csv(\"input.csv\", index=False)"
   ]
  },
  {
   "cell_type": "code",
   "execution_count": 7,
   "id": "6ec6f96f",
   "metadata": {},
   "outputs": [
    {
     "name": "stdout",
     "output_type": "stream",
     "text": [
      "Input Done.\n"
     ]
    }
   ],
   "source": [
    "print(\"Input Done.\")"
   ]
  },
  {
   "cell_type": "code",
   "execution_count": null,
   "id": "06e245ed",
   "metadata": {},
   "outputs": [],
   "source": []
  }
 ],
 "metadata": {
  "kernelspec": {
   "display_name": "Python 3 (ipykernel)",
   "language": "python",
   "name": "python3"
  },
  "language_info": {
   "codemirror_mode": {
    "name": "ipython",
    "version": 3
   },
   "file_extension": ".py",
   "mimetype": "text/x-python",
   "name": "python",
   "nbconvert_exporter": "python",
   "pygments_lexer": "ipython3",
   "version": "3.10.9"
  }
 },
 "nbformat": 4,
 "nbformat_minor": 5
}
